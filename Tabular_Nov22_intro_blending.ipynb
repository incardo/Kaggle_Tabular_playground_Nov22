{
 "cells": [
  {
   "cell_type": "code",
   "execution_count": 2,
   "id": "b4098be4",
   "metadata": {
    "_cell_guid": "b1076dfc-b9ad-4769-8c92-a6c4dae69d19",
    "_uuid": "8f2839f25d086af736a60e9eeb907d3b93b6e0e5",
    "papermill": {
     "duration": 1.099836,
     "end_time": "2022-11-01T03:16:46.786525",
     "exception": false,
     "start_time": "2022-11-01T03:16:45.686689",
     "status": "completed"
    },
    "tags": []
   },
   "outputs": [],
   "source": [
    "import os\n",
    "import pandas as pd\n",
    "import timeit\n",
    "import numpy as np\n",
    "import glob, pickle, scipy.optimize, scipy.special\n",
    "from pathlib import Path\n",
    "\n",
    "from sklearn.metrics import log_loss\n",
    "\n",
    "#path = Path('/kaggle/input/tabular-playground-series-nov-2022/')\n",
    "path = Path('C:/Users/incar/Downloads/tabular-playground-series-nov-2022/')\n"
   ]
  },
  {
   "cell_type": "markdown",
   "id": "42b01963",
   "metadata": {
    "papermill": {
     "duration": 0.003407,
     "end_time": "2022-11-01T03:16:46.794707",
     "exception": false,
     "start_time": "2022-11-01T03:16:46.791300",
     "status": "completed"
    },
    "tags": []
   },
   "source": [
    "### Read files and info"
   ]
  },
  {
   "cell_type": "code",
   "execution_count": 6,
   "id": "b43e636a",
   "metadata": {
    "papermill": {
     "duration": 0.20848,
     "end_time": "2022-11-01T03:16:47.006933",
     "exception": false,
     "start_time": "2022-11-01T03:16:46.798453",
     "status": "completed"
    },
    "tags": []
   },
   "outputs": [],
   "source": [
    "submission = pd.read_csv(path / 'sample_submission.csv', index_col='id')\n",
    "labels = pd.read_csv(path / 'train_labels.csv', index_col='id')\n",
    "\n",
    "# the ids of the submission rows (useful later)\n",
    "sub_ids = submission.index\n",
    "\n",
    "# the ids of the labeled rows (useful later)\n",
    "gt_ids = labels.index \n",
    "\n",
    "# list of files in the submission folder\n",
    "subs = sorted(os.listdir(path / 'submission_files'))"
   ]
  },
  {
   "cell_type": "code",
   "execution_count": 5,
   "id": "b3be0af1-fa18-492e-a7a6-e2ffca7c3b9c",
   "metadata": {},
   "outputs": [
    {
     "data": {
      "text/html": [
       "<div>\n",
       "<style scoped>\n",
       "    .dataframe tbody tr th:only-of-type {\n",
       "        vertical-align: middle;\n",
       "    }\n",
       "\n",
       "    .dataframe tbody tr th {\n",
       "        vertical-align: top;\n",
       "    }\n",
       "\n",
       "    .dataframe thead th {\n",
       "        text-align: right;\n",
       "    }\n",
       "</style>\n",
       "<table border=\"1\" class=\"dataframe\">\n",
       "  <thead>\n",
       "    <tr style=\"text-align: right;\">\n",
       "      <th></th>\n",
       "      <th>sub_0001</th>\n",
       "      <th>sub_0002</th>\n",
       "      <th>sub_0003</th>\n",
       "      <th>sub_0004</th>\n",
       "      <th>sub_0005</th>\n",
       "      <th>sub_0006</th>\n",
       "      <th>sub_0007</th>\n",
       "      <th>sub_0008</th>\n",
       "      <th>sub_0009</th>\n",
       "      <th>sub_0010</th>\n",
       "      <th>...</th>\n",
       "      <th>sub_4992</th>\n",
       "      <th>sub_4993</th>\n",
       "      <th>sub_4994</th>\n",
       "      <th>sub_4995</th>\n",
       "      <th>sub_4996</th>\n",
       "      <th>sub_4997</th>\n",
       "      <th>sub_4998</th>\n",
       "      <th>sub_4999</th>\n",
       "      <th>sub_5000</th>\n",
       "      <th>label</th>\n",
       "    </tr>\n",
       "  </thead>\n",
       "  <tbody>\n",
       "    <tr>\n",
       "      <th>0</th>\n",
       "      <td>0.709336</td>\n",
       "      <td>0.799007</td>\n",
       "      <td>0.851891</td>\n",
       "      <td>0.537158</td>\n",
       "      <td>0.623930</td>\n",
       "      <td>0.705970</td>\n",
       "      <td>0.503437</td>\n",
       "      <td>0.633185</td>\n",
       "      <td>0.641550</td>\n",
       "      <td>0.666604</td>\n",
       "      <td>...</td>\n",
       "      <td>0.750250</td>\n",
       "      <td>0.663370</td>\n",
       "      <td>0.739333</td>\n",
       "      <td>0.822384</td>\n",
       "      <td>0.749498</td>\n",
       "      <td>0.729800</td>\n",
       "      <td>0.867847</td>\n",
       "      <td>0.745888</td>\n",
       "      <td>0.787</td>\n",
       "      <td>0.0</td>\n",
       "    </tr>\n",
       "    <tr>\n",
       "      <th>1</th>\n",
       "      <td>0.452988</td>\n",
       "      <td>0.364453</td>\n",
       "      <td>0.567582</td>\n",
       "      <td>0.354468</td>\n",
       "      <td>0.513818</td>\n",
       "      <td>0.584119</td>\n",
       "      <td>0.454809</td>\n",
       "      <td>0.238501</td>\n",
       "      <td>0.472171</td>\n",
       "      <td>0.522314</td>\n",
       "      <td>...</td>\n",
       "      <td>0.794052</td>\n",
       "      <td>0.721298</td>\n",
       "      <td>0.804369</td>\n",
       "      <td>0.620626</td>\n",
       "      <td>0.733606</td>\n",
       "      <td>0.816942</td>\n",
       "      <td>0.814229</td>\n",
       "      <td>0.598331</td>\n",
       "      <td>0.547</td>\n",
       "      <td>1.0</td>\n",
       "    </tr>\n",
       "    <tr>\n",
       "      <th>2</th>\n",
       "      <td>0.675462</td>\n",
       "      <td>0.842260</td>\n",
       "      <td>0.800013</td>\n",
       "      <td>0.525229</td>\n",
       "      <td>0.692071</td>\n",
       "      <td>0.715418</td>\n",
       "      <td>0.651008</td>\n",
       "      <td>0.609124</td>\n",
       "      <td>0.691198</td>\n",
       "      <td>0.609994</td>\n",
       "      <td>...</td>\n",
       "      <td>0.779859</td>\n",
       "      <td>0.865657</td>\n",
       "      <td>0.828493</td>\n",
       "      <td>0.763010</td>\n",
       "      <td>0.802883</td>\n",
       "      <td>0.806891</td>\n",
       "      <td>0.896058</td>\n",
       "      <td>0.855776</td>\n",
       "      <td>0.667</td>\n",
       "      <td>1.0</td>\n",
       "    </tr>\n",
       "    <tr>\n",
       "      <th>3</th>\n",
       "      <td>0.481046</td>\n",
       "      <td>0.577118</td>\n",
       "      <td>0.683032</td>\n",
       "      <td>0.541356</td>\n",
       "      <td>0.630088</td>\n",
       "      <td>0.664514</td>\n",
       "      <td>0.413373</td>\n",
       "      <td>0.508210</td>\n",
       "      <td>0.526140</td>\n",
       "      <td>0.584565</td>\n",
       "      <td>...</td>\n",
       "      <td>0.799698</td>\n",
       "      <td>0.800130</td>\n",
       "      <td>0.716604</td>\n",
       "      <td>0.603779</td>\n",
       "      <td>0.708499</td>\n",
       "      <td>0.844837</td>\n",
       "      <td>0.853057</td>\n",
       "      <td>0.850657</td>\n",
       "      <td>0.622</td>\n",
       "      <td>1.0</td>\n",
       "    </tr>\n",
       "    <tr>\n",
       "      <th>4</th>\n",
       "      <td>0.957339</td>\n",
       "      <td>0.910337</td>\n",
       "      <td>0.917322</td>\n",
       "      <td>0.874487</td>\n",
       "      <td>0.787595</td>\n",
       "      <td>0.854273</td>\n",
       "      <td>0.843846</td>\n",
       "      <td>0.876749</td>\n",
       "      <td>0.821128</td>\n",
       "      <td>0.913054</td>\n",
       "      <td>...</td>\n",
       "      <td>0.900150</td>\n",
       "      <td>0.960911</td>\n",
       "      <td>0.906037</td>\n",
       "      <td>0.961240</td>\n",
       "      <td>0.935608</td>\n",
       "      <td>0.889757</td>\n",
       "      <td>0.978505</td>\n",
       "      <td>0.953681</td>\n",
       "      <td>0.934</td>\n",
       "      <td>0.0</td>\n",
       "    </tr>\n",
       "  </tbody>\n",
       "</table>\n",
       "<p>5 rows × 5001 columns</p>\n",
       "</div>"
      ],
      "text/plain": [
       "   sub_0001  sub_0002  sub_0003  sub_0004  sub_0005  sub_0006  sub_0007  \\\n",
       "0  0.709336  0.799007  0.851891  0.537158  0.623930  0.705970  0.503437   \n",
       "1  0.452988  0.364453  0.567582  0.354468  0.513818  0.584119  0.454809   \n",
       "2  0.675462  0.842260  0.800013  0.525229  0.692071  0.715418  0.651008   \n",
       "3  0.481046  0.577118  0.683032  0.541356  0.630088  0.664514  0.413373   \n",
       "4  0.957339  0.910337  0.917322  0.874487  0.787595  0.854273  0.843846   \n",
       "\n",
       "   sub_0008  sub_0009  sub_0010  ...  sub_4992  sub_4993  sub_4994  sub_4995  \\\n",
       "0  0.633185  0.641550  0.666604  ...  0.750250  0.663370  0.739333  0.822384   \n",
       "1  0.238501  0.472171  0.522314  ...  0.794052  0.721298  0.804369  0.620626   \n",
       "2  0.609124  0.691198  0.609994  ...  0.779859  0.865657  0.828493  0.763010   \n",
       "3  0.508210  0.526140  0.584565  ...  0.799698  0.800130  0.716604  0.603779   \n",
       "4  0.876749  0.821128  0.913054  ...  0.900150  0.960911  0.906037  0.961240   \n",
       "\n",
       "   sub_4996  sub_4997  sub_4998  sub_4999  sub_5000  label  \n",
       "0  0.749498  0.729800  0.867847  0.745888     0.787    0.0  \n",
       "1  0.733606  0.816942  0.814229  0.598331     0.547    1.0  \n",
       "2  0.802883  0.806891  0.896058  0.855776     0.667    1.0  \n",
       "3  0.708499  0.844837  0.853057  0.850657     0.622    1.0  \n",
       "4  0.935608  0.889757  0.978505  0.953681     0.934    0.0  \n",
       "\n",
       "[5 rows x 5001 columns]"
      ]
     },
     "execution_count": 5,
     "metadata": {},
     "output_type": "execute_result"
    }
   ],
   "source": [
    "REBUILD_DATA = False\n",
    "path = Path(path)\n",
    "submission = pd.read_csv(path / 'sample_submission.csv', index_col='id')\n",
    "    \n",
    "if REBUILD_DATA:\n",
    "    labels = pd.read_csv(path / 'train_labels.csv', index_col='id')\n",
    "\n",
    "    # the ids of the submission rows (useful later)\n",
    "    sub_ids = submission.index\n",
    "\n",
    "    # the ids of the labeled rows (useful later)\n",
    "    gt_ids = labels.index \n",
    "\n",
    "    # list of files in the submission folder\n",
    "    subs = sorted(os.listdir(path / 'submission_files')) #sorted in order of performance\n",
    "    \n",
    "    dfs = [pd.read_csv(path / 'submission_files' / sub)['pred'] for sub in subs]\n",
    "    df = pd.concat(dfs, axis=1)\n",
    "    df.columns = [f'sub_{i+1:04}' for i in range(len(df.columns))]\n",
    "    df['label'] = labels\n",
    "    df.to_feather('/tps.ftr', index=None)\n",
    "else:\n",
    "    df = pd.read_feather('tps.ftr')\n",
    "    \n",
    "df.head()"
   ]
  },
  {
   "cell_type": "markdown",
   "id": "11970bca",
   "metadata": {
    "papermill": {
     "duration": 0.003273,
     "end_time": "2022-11-01T03:16:47.013735",
     "exception": false,
     "start_time": "2022-11-01T03:16:47.010462",
     "status": "completed"
    },
    "tags": []
   },
   "source": [
    "### Read in the first submission file (best scoring on labeled rows)"
   ]
  },
  {
   "cell_type": "code",
   "execution_count": 4,
   "id": "9509fef4",
   "metadata": {
    "papermill": {
     "duration": 0.062967,
     "end_time": "2022-11-01T03:16:47.080128",
     "exception": false,
     "start_time": "2022-11-01T03:16:47.017161",
     "status": "completed"
    },
    "tags": []
   },
   "outputs": [
    {
     "name": "stdout",
     "output_type": "stream",
     "text": [
      "0.6222863195.csv 0.6222863195\n"
     ]
    }
   ],
   "source": [
    "s0 = pd.read_csv(path / 'submission_files' / subs[0], index_col='id')\n",
    "\n",
    "score = log_loss(labels, s0.loc[gt_ids])\n",
    "\n",
    "# Notice the score of the labeled rows matches the file name\n",
    "print(subs[0], f'{score:.10f}')"
   ]
  },
  {
   "cell_type": "markdown",
   "id": "3f156fc9",
   "metadata": {
    "papermill": {
     "duration": 0.003343,
     "end_time": "2022-11-01T03:16:47.086983",
     "exception": false,
     "start_time": "2022-11-01T03:16:47.083640",
     "status": "completed"
    },
    "tags": []
   },
   "source": [
    "### Same for second submission file"
   ]
  },
  {
   "cell_type": "code",
   "execution_count": 16,
   "id": "b91542a6",
   "metadata": {
    "papermill": {
     "duration": 0.059692,
     "end_time": "2022-11-01T03:16:47.150755",
     "exception": false,
     "start_time": "2022-11-01T03:16:47.091063",
     "status": "completed"
    },
    "tags": []
   },
   "outputs": [
    {
     "name": "stdout",
     "output_type": "stream",
     "text": [
      "0.6223807245.csv 0.6223807245\n"
     ]
    }
   ],
   "source": [
    "s1 = pd.read_csv(path / 'submission_files' / subs[1], index_col='id')\n",
    "\n",
    "score = log_loss(labels, s1.loc[gt_ids])\n",
    "\n",
    "print(subs[1], f'{score:.10f}')"
   ]
  },
  {
   "cell_type": "markdown",
   "id": "360baa52",
   "metadata": {
    "papermill": {
     "duration": 0.003434,
     "end_time": "2022-11-01T03:16:47.158540",
     "exception": false,
     "start_time": "2022-11-01T03:16:47.155106",
     "status": "completed"
    },
    "tags": []
   },
   "source": [
    "### Blending the two files\n",
    "\n",
    "Blending `s0` and `s1` gives a local score of 0.60497, which is an improvement from the input files (0.622...)\n"
   ]
  },
  {
   "cell_type": "code",
   "execution_count": 6,
   "id": "908b16e4",
   "metadata": {
    "papermill": {
     "duration": 0.03045,
     "end_time": "2022-11-01T03:16:47.192718",
     "exception": false,
     "start_time": "2022-11-01T03:16:47.162268",
     "status": "completed"
    },
    "tags": []
   },
   "outputs": [
    {
     "name": "stdout",
     "output_type": "stream",
     "text": [
      "blend score: 0.6049715910\n"
     ]
    }
   ],
   "source": [
    "blend = (s0 + s1) / 2\n",
    "\n",
    "score = log_loss(labels, blend.loc[gt_ids])\n",
    "\n",
    "print(f'blend score: {score:.10f}')"
   ]
  },
  {
   "cell_type": "markdown",
   "id": "2cfd8d35",
   "metadata": {
    "papermill": {
     "duration": 0.003688,
     "end_time": "2022-11-01T03:16:47.201066",
     "exception": false,
     "start_time": "2022-11-01T03:16:47.197378",
     "status": "completed"
    },
    "tags": []
   },
   "source": [
    "### How does the blend do on the Leaderboard?\n",
    "\n",
    "If you submit the unlabeled rows of `s0` (e.g., 20,000 - 39,000) to the leaderboard, it scores 0.61863. Likewise, `s1` scores 0.62335. How does the blend do?\n",
    "\n",
    "#### It scores 0.60454, which is an improvement!"
   ]
  },
  {
   "cell_type": "code",
   "execution_count": 8,
   "id": "f294076d",
   "metadata": {
    "papermill": {
     "duration": 0.080085,
     "end_time": "2022-11-01T03:16:47.284852",
     "exception": false,
     "start_time": "2022-11-01T03:16:47.204767",
     "status": "completed"
    },
    "tags": []
   },
   "outputs": [],
   "source": [
    "blend.loc[sub_ids].to_csv('blend.csv')"
   ]
  },
  {
   "cell_type": "markdown",
   "id": "014f117c-428d-4300-9d1d-45bb0414da0f",
   "metadata": {},
   "source": [
    "# Data check"
   ]
  },
  {
   "cell_type": "code",
   "execution_count": 8,
   "id": "9d851c71-07cd-4c83-8e22-94e1edbe2c04",
   "metadata": {},
   "outputs": [
    {
     "data": {
      "text/plain": [
       "0.0    10000\n",
       "1.0    10000\n",
       "Name: label, dtype: int64"
      ]
     },
     "execution_count": 8,
     "metadata": {},
     "output_type": "execute_result"
    }
   ],
   "source": [
    "df['label'].value_counts()"
   ]
  },
  {
   "cell_type": "code",
   "execution_count": 9,
   "id": "ff55ac5b-c92f-42b2-b228-b254fbbcc4a4",
   "metadata": {},
   "outputs": [],
   "source": [
    "df_train = df[df['label'].notna()]\n",
    "df_test = df[df['label'].isna()]\n",
    "y_train = df_train['label']\n",
    "y_test = df_test['label']\n",
    "df_train = df_train.drop(columns=['label'])\n",
    "df_test = df_test.drop(columns=['label'])\n",
    "X_train = df_train.values\n",
    "X_test = df_test.values\n",
    "loglosses = np.array([log_loss(y_train, df_train[c]) for c in df_train.columns])"
   ]
  },
  {
   "cell_type": "markdown",
   "id": "8483ad17-33b3-4669-9e44-b26d422a8710",
   "metadata": {},
   "source": [
    "## Top 100 average"
   ]
  },
  {
   "cell_type": "code",
   "execution_count": 10,
   "id": "a7981ffe-b37d-4a88-83dc-ca3a4a0c5ec2",
   "metadata": {},
   "outputs": [
    {
     "data": {
      "text/plain": [
       "0.6023252766809227"
      ]
     },
     "execution_count": 10,
     "metadata": {},
     "output_type": "execute_result"
    }
   ],
   "source": [
    "topn = 100\n",
    "df_pred_avg = df_train[df_train.columns[:topn]].mean(axis=1)\n",
    "log_loss(y_train, df_pred_avg)"
   ]
  },
  {
   "cell_type": "code",
   "execution_count": 25,
   "id": "bb5209ba-6926-4076-a4d4-f1024c25b341",
   "metadata": {
    "tags": []
   },
   "outputs": [],
   "source": [
    "df_100_avg = pd.DataFrame(df_pred_avg, columns = [\"pred\"]).set_index(sub_ids)"
   ]
  }
 ],
 "metadata": {
  "kernelspec": {
   "display_name": "Python 3 (ipykernel)",
   "language": "python",
   "name": "python3"
  },
  "language_info": {
   "codemirror_mode": {
    "name": "ipython",
    "version": 3
   },
   "file_extension": ".py",
   "mimetype": "text/x-python",
   "name": "python",
   "nbconvert_exporter": "python",
   "pygments_lexer": "ipython3",
   "version": "3.8.11"
  },
  "papermill": {
   "default_parameters": {},
   "duration": 12.337249,
   "end_time": "2022-11-01T03:16:48.117721",
   "environment_variables": {},
   "exception": null,
   "input_path": "__notebook__.ipynb",
   "output_path": "__notebook__.ipynb",
   "parameters": {},
   "start_time": "2022-11-01T03:16:35.780472",
   "version": "2.3.4"
  }
 },
 "nbformat": 4,
 "nbformat_minor": 5
}
